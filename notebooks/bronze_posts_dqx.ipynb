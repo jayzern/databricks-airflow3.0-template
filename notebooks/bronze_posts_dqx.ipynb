{
 "cells": [
  {
   "cell_type": "code",
   "execution_count": 0,
   "metadata": {
    "application/vnd.databricks.v1+cell": {
     "cellMetadata": {
      "byteLimit": 2048000,
      "rowLimit": 10000
     },
     "inputWidgets": {},
     "nuid": "a9accea9-9a76-4461-81af-3bf092b7a736",
     "showTitle": false,
     "tableResultSettingsMap": {},
     "title": ""
    }
   },
   "outputs": [],
   "source": [
    "%pip install databricks-labs-dqx"
   ]
  },
  {
   "cell_type": "code",
   "execution_count": 0,
   "metadata": {
    "application/vnd.databricks.v1+cell": {
     "cellMetadata": {
      "byteLimit": 2048000,
      "rowLimit": 10000
     },
     "inputWidgets": {},
     "nuid": "8eb2c7d0-fac6-411b-864e-dea976a55e0a",
     "showTitle": false,
     "tableResultSettingsMap": {},
     "title": ""
    }
   },
   "outputs": [],
   "source": [
    "dbutils.library.restartPython()"
   ]
  },
  {
   "cell_type": "code",
   "execution_count": 0,
   "metadata": {
    "application/vnd.databricks.v1+cell": {
     "cellMetadata": {
      "byteLimit": 2048000,
      "rowLimit": 10000
     },
     "inputWidgets": {},
     "nuid": "38f780bd-8536-45a4-80e8-9cb48caa9549",
     "showTitle": false,
     "tableResultSettingsMap": {},
     "title": ""
    }
   },
   "outputs": [],
   "source": [
    "raw_posts_df = spark.read.table(\"default.raw_posts\")"
   ]
  },
  {
   "cell_type": "code",
   "execution_count": 0,
   "metadata": {
    "application/vnd.databricks.v1+cell": {
     "cellMetadata": {
      "byteLimit": 2048000,
      "rowLimit": 10000
     },
     "inputWidgets": {},
     "nuid": "43bf56a7-9bf4-4781-a2c0-adab1ea7c348",
     "showTitle": false,
     "tableResultSettingsMap": {},
     "title": ""
    }
   },
   "outputs": [],
   "source": [
    "from databricks.labs.dqx import check_funcs\n",
    "from databricks.labs.dqx.engine import DQEngine\n",
    "from databricks.labs.dqx.rule import DQForEachColRule, DQRowRule\n",
    "from databricks.sdk import WorkspaceClient\n",
    "\n",
    "dq_engine = DQEngine(WorkspaceClient())\n",
    "\n",
    "checks = [\n",
    "    *DQForEachColRule(\n",
    "        columns=[\"Id\", \"CreationDate\"],\n",
    "        criticality=\"error\",\n",
    "        check_func=check_funcs.is_not_null\n",
    "    ).get_rules(),\n",
    "    DQRowRule(\n",
    "        name=\"creation_date_not_in_future\",\n",
    "        criticality=\"error\",\n",
    "        check_func=check_funcs.is_not_in_future,\n",
    "        column=\"CreationDate\"\n",
    "    ),\n",
    "    DQRowRule(\n",
    "        name=\"post_type_id_allowed_values\",\n",
    "        criticality=\"warn\",\n",
    "        check_func=check_funcs.is_in_list,\n",
    "        column=\"PostTypeId\",\n",
    "        check_func_kwargs={\"allowed\": [\"1\", \"2\", \"3\", \"4\"]}\n",
    "    )\n",
    "]\n",
    "\n",
    "valid_df, quarantined_df = dq_engine.apply_checks_and_split(raw_posts_df, checks)"
   ]
  },
  {
   "cell_type": "code",
   "execution_count": 0,
   "metadata": {
    "application/vnd.databricks.v1+cell": {
     "cellMetadata": {
      "byteLimit": 2048000,
      "rowLimit": 10000
     },
     "inputWidgets": {},
     "nuid": "a1bf3799-14ba-4d81-af4a-5a67af6c65b1",
     "showTitle": false,
     "tableResultSettingsMap": {},
     "title": ""
    }
   },
   "outputs": [],
   "source": [
    "display(quarantined_df.limit(3))"
   ]
  }
 ],
 "metadata": {
  "application/vnd.databricks.v1+notebook": {
   "computePreferences": null,
   "dashboards": [],
   "environmentMetadata": {
    "base_environment": "",
    "environment_version": "2"
   },
   "inputWidgetPreferences": null,
   "language": "python",
   "notebookMetadata": {
    "pythonIndentUnit": 4
   },
   "notebookName": "bronze_posts_dqx",
   "widgets": {}
  },
  "language_info": {
   "name": "python"
  }
 },
 "nbformat": 4,
 "nbformat_minor": 0
}
